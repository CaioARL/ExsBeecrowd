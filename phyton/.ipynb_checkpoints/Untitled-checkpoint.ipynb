{
 "cells": [
  {
   "cell_type": "code",
   "execution_count": 1,
   "id": "8bc575eb-25a7-4b6f-bc71-84034be9a744",
   "metadata": {},
   "outputs": [
    {
     "name": "stdin",
     "output_type": "stream",
     "text": [
      "Nome caio\n"
     ]
    },
    {
     "name": "stdout",
     "output_type": "stream",
     "text": [
      "caio\n"
     ]
    }
   ],
   "source": [
    "n = input(\"Nome\")\n",
    "\n",
    "print (n)"
   ]
  },
  {
   "cell_type": "code",
   "execution_count": null,
   "id": "4f504447-c605-40a3-969f-998c980ea5c7",
   "metadata": {},
   "outputs": [],
   "source": []
  },
  {
   "cell_type": "code",
   "execution_count": 6,
   "id": "c57076f0-8efc-4fae-a3f0-14ba381bcf37",
   "metadata": {},
   "outputs": [
    {
     "name": "stdin",
     "output_type": "stream",
     "text": [
      "Numerador 7\n",
      "Denominador 2\n"
     ]
    },
    {
     "name": "stdout",
     "output_type": "stream",
     "text": [
      "3.50\n"
     ]
    }
   ],
   "source": [
    "d = int(input(\"Numerador:\"))\n",
    "n = int(input(\"Denominador:\"))\n",
    "\n",
    "con = d/n\n",
    "\n",
    "print(\"%.2F\" % con)"
   ]
  },
  {
   "cell_type": "code",
   "execution_count": null,
   "id": "40c95e1b-6cca-4928-b1c1-1a479477c366",
   "metadata": {},
   "outputs": [],
   "source": []
  }
 ],
 "metadata": {
  "kernelspec": {
   "display_name": "Python 3 (ipykernel)",
   "language": "python",
   "name": "python3"
  },
  "language_info": {
   "codemirror_mode": {
    "name": "ipython",
    "version": 3
   },
   "file_extension": ".py",
   "mimetype": "text/x-python",
   "name": "python",
   "nbconvert_exporter": "python",
   "pygments_lexer": "ipython3",
   "version": "3.9.7"
  }
 },
 "nbformat": 4,
 "nbformat_minor": 5
}
